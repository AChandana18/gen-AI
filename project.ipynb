{
 "cells": [
  {
   "cell_type": "code",
   "execution_count": 2,
   "id": "fe847000",
   "metadata": {},
   "outputs": [],
   "source": [
    "import tensorflow as tf\n",
    "from tensorflow.keras.layers import Dense,LeakyReLU,BatchNormalization,Reshape,Flatten\n",
    "from tensorflow.keras.models import Sequential\n",
    "import numpy as np\n",
    "import matplotlib.pyplot as plt"
   ]
  },
  {
   "cell_type": "code",
   "execution_count": 3,
   "id": "5bbc29a1",
   "metadata": {},
   "outputs": [],
   "source": [
    "def build_generator():\n",
    "    model=Sequential()\n",
    "    model.add(Dense(128,input_dim=100))\n",
    "    model.add(LeakyReLU(alpha=0.2))\n",
    "    model.add(BatchNormalization())\n",
    "    model.add(Dense(784,activation='tanh'))\n",
    "    model.add(Reshape((28,28)))\n",
    "    return model"
   ]
  },
  {
   "cell_type": "code",
   "execution_count": 4,
   "id": "a0e58ed8",
   "metadata": {},
   "outputs": [],
   "source": [
    "def build_discriminator():\n",
    "    model=Sequential()\n",
    "    model.add(Flatten(input_shape=(28,28)))\n",
    "    model.add(Dense(128))\n",
    "    model.add(LeakyReLU(alpha=0.2))\n",
    "    model.add(Dense(1,activation='sigmoid'))\n",
    "    return model"
   ]
  },
  {
   "cell_type": "code",
   "execution_count": 5,
   "id": "b8f7e48b",
   "metadata": {},
   "outputs": [],
   "source": [
    "(X_train,_),_=tf.keras.datasets.mnist.load_data()\n",
    "X_train=(X_train.astype(np.float32)-127.5)/127.5"
   ]
  },
  {
   "cell_type": "code",
   "execution_count": 6,
   "id": "cd27bbbd",
   "metadata": {},
   "outputs": [
    {
     "name": "stderr",
     "output_type": "stream",
     "text": [
      "c:\\Users\\appam\\AppData\\Local\\Programs\\Python\\Python311\\Lib\\site-packages\\keras\\src\\layers\\core\\dense.py:93: UserWarning: Do not pass an `input_shape`/`input_dim` argument to a layer. When using Sequential models, prefer using an `Input(shape)` object as the first layer in the model instead.\n",
      "  super().__init__(activity_regularizer=activity_regularizer, **kwargs)\n",
      "c:\\Users\\appam\\AppData\\Local\\Programs\\Python\\Python311\\Lib\\site-packages\\keras\\src\\layers\\activations\\leaky_relu.py:41: UserWarning: Argument `alpha` is deprecated. Use `negative_slope` instead.\n",
      "  warnings.warn(\n",
      "c:\\Users\\appam\\AppData\\Local\\Programs\\Python\\Python311\\Lib\\site-packages\\keras\\src\\layers\\reshaping\\flatten.py:37: UserWarning: Do not pass an `input_shape`/`input_dim` argument to a layer. When using Sequential models, prefer using an `Input(shape)` object as the first layer in the model instead.\n",
      "  super().__init__(**kwargs)\n"
     ]
    }
   ],
   "source": [
    "generator = build_generator()\n",
    "discriminator = build_discriminator()\n",
    "\n",
    "# Compile Discriminator\n",
    "discriminator.compile(optimizer='adam', loss='binary_crossentropy')"
   ]
  },
  {
   "cell_type": "code",
   "execution_count": 7,
   "id": "596d9dbb",
   "metadata": {},
   "outputs": [],
   "source": [
    "z = tf.keras.Input(shape=(100,))\n",
    "img=generator(z)\n",
    "discriminator.trainable=False\n",
    "validity=discriminator(img)\n",
    "gan = tf.keras.Model(inputs=z, outputs=validity)\n",
    "gan.compile(optimizer='adam', loss='binary_crossentropy')"
   ]
  },
  {
   "cell_type": "code",
   "execution_count": null,
   "id": "ecfb6fe7",
   "metadata": {},
   "outputs": [
    {
     "name": "stdout",
     "output_type": "stream",
     "text": [
      "\u001b[1m2/2\u001b[0m \u001b[32m━━━━━━━━━━━━━━━━━━━━\u001b[0m\u001b[37m\u001b[0m \u001b[1m0s\u001b[0m 33ms/step \n"
     ]
    }
   ],
   "source": [
    "for epoch in range(10000):\n",
    "    idx = np.random.randint(0, X_train.shape[0], 64)\n",
    "    real_images = X_train[idx]\n",
    "    noise = np.random.normal(0, 1, (64, 100))\n",
    "    fake_images=generator.predict(noise)\n",
    "    discriminator.trainable= True\n",
    "    discriminator.train_on_batch(real_images, np.ones((64, 1)))\n",
    "    discriminator.train_on_batch(fake_images, np.zeros((64, 1)))\n",
    "    discriminator.trainable = False\n",
    "    gan.train_on_batch(noise,np.ones((64,1)))\n",
    "    if epoch%200==0:\n",
    "        plt.imshow(fake_images[0],cmap='gray')\n",
    "        plt.title(f\"Epoch {epoch}\")\n",
    "        plt.show()"
   ]
  },
  {
   "cell_type": "code",
   "execution_count": null,
   "id": "23903725",
   "metadata": {},
   "outputs": [],
   "source": []
  }
 ],
 "metadata": {
  "kernelspec": {
   "display_name": "Python 3",
   "language": "python",
   "name": "python3"
  },
  "language_info": {
   "codemirror_mode": {
    "name": "ipython",
    "version": 3
   },
   "file_extension": ".py",
   "mimetype": "text/x-python",
   "name": "python",
   "nbconvert_exporter": "python",
   "pygments_lexer": "ipython3",
   "version": "3.11.6"
  }
 },
 "nbformat": 4,
 "nbformat_minor": 5
}
